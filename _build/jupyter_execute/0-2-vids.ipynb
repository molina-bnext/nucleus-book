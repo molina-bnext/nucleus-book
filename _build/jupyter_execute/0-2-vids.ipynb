{
 "cells": [
  {
   "cell_type": "markdown",
   "id": "5fb91389",
   "metadata": {},
   "source": [
    "# Video\n",
    "\n",
    ":::{seealso}\n",
    "Purify [ribosomes](https://en.wikipedia.org/wiki/Ribosome) for bnext solution B. The protocol was derived from [Trauner, 2011](https://doi.org/10.1371/journal.pone.0016273)\n",
    ":::\n",
    "\n",
    "Here is a mystery video\n",
    "<div style=\"text-align: center;\">\n",
    "    <iframe width=\"560\" height=\"315\" src=\"https://youtube.com/embed/6VzvmYjH-4c?feature=share\" frameborder=\"0\" allowfullscreen></iframe>\n",
    "</div>\n",
    "\n",
    "<!-- :::{iframe} https://youtu.be/F3st8X0L1Ys?feature=shared\n",
    ":width: 100%\n",
    "Get up and running with MyST in Jupyter!\n",
    "::: -->\n"
   ]
  },
  {
   "cell_type": "markdown",
   "id": "e7cc235b",
   "metadata": {},
   "source": []
  }
 ],
 "metadata": {
  "kernelspec": {
   "display_name": "Python 3 (ipykernel)",
   "language": "python",
   "name": "python3"
  },
  "language_info": {
   "codemirror_mode": {
    "name": "ipython",
    "version": 3
   },
   "file_extension": ".py",
   "mimetype": "text/x-python",
   "name": "python",
   "nbconvert_exporter": "python",
   "pygments_lexer": "ipython3",
   "version": "3.12.6"
  }
 },
 "nbformat": 4,
 "nbformat_minor": 5
}